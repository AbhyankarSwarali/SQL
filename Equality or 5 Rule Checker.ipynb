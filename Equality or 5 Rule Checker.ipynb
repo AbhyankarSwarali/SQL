{
 "cells": [
  {
   "cell_type": "code",
   "execution_count": 5,
   "id": "a9d38d33-b6f2-48db-badd-3616ad7b31c3",
   "metadata": {},
   "outputs": [
    {
     "name": "stdin",
     "output_type": "stream",
     "text": [
      "Enter x: 1\n",
      "Enter y: 4\n"
     ]
    },
    {
     "name": "stdout",
     "output_type": "stream",
     "text": [
      "True\n"
     ]
    }
   ],
   "source": [
    "x = int(input(\"Enter x:\"))\n",
    "y = int(input(\"Enter y:\"))\n",
    "if (x==y) or (x+y==5) or (x-y==5): \n",
    "    print(True)\n",
    "else: \n",
    "    print(x+y)"
   ]
  }
 ],
 "metadata": {
  "kernelspec": {
   "display_name": "Python [conda env:base] *",
   "language": "python",
   "name": "conda-base-py"
  },
  "language_info": {
   "codemirror_mode": {
    "name": "ipython",
    "version": 3
   },
   "file_extension": ".py",
   "mimetype": "text/x-python",
   "name": "python",
   "nbconvert_exporter": "python",
   "pygments_lexer": "ipython3",
   "version": "3.12.7"
  }
 },
 "nbformat": 4,
 "nbformat_minor": 5
}
