{
 "cells": [
  {
   "cell_type": "code",
   "execution_count": 3,
   "id": "86f5bfc9-b282-478f-b204-df179eadc6b9",
   "metadata": {},
   "outputs": [
    {
     "name": "stdin",
     "output_type": "stream",
     "text": [
      "Enter a variable: 'D'\n"
     ]
    },
    {
     "name": "stdout",
     "output_type": "stream",
     "text": [
      "String\n"
     ]
    }
   ],
   "source": [
    "var = eval(input(\"Enter a variable:\"))\n",
    "if isinstance(var, int): \n",
    "    print(\"Integer\")\n",
    "elif isinstance(var, str): \n",
    "    print(\"String\")"
   ]
  }
 ],
 "metadata": {
  "kernelspec": {
   "display_name": "Python [conda env:base] *",
   "language": "python",
   "name": "conda-base-py"
  },
  "language_info": {
   "codemirror_mode": {
    "name": "ipython",
    "version": 3
   },
   "file_extension": ".py",
   "mimetype": "text/x-python",
   "name": "python",
   "nbconvert_exporter": "python",
   "pygments_lexer": "ipython3",
   "version": "3.12.7"
  }
 },
 "nbformat": 4,
 "nbformat_minor": 5
}
