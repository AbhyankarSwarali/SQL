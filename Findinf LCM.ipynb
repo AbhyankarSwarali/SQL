{
 "cells": [
  {
   "cell_type": "code",
   "execution_count": 5,
   "id": "f85d1b77-2ab0-4688-a898-9c26323f6281",
   "metadata": {},
   "outputs": [
    {
     "name": "stdin",
     "output_type": "stream",
     "text": [
      "Enter x: 3\n",
      "Enter y: 7\n"
     ]
    },
    {
     "name": "stdout",
     "output_type": "stream",
     "text": [
      "21\n"
     ]
    }
   ],
   "source": [
    "def least_comm_multi(): \n",
    "    x = int(input(\"Enter x:\"))\n",
    "    y = int(input(\"Enter y:\"))\n",
    "    if x > y: \n",
    "        z = x\n",
    "    else: \n",
    "        z = y\n",
    "    while True: \n",
    "        if (z % x ==0) and (z % y == 0): \n",
    "            lcm = z\n",
    "            break\n",
    "        z +=1\n",
    "    print(lcm)\n",
    "least_comm_multi()"
   ]
  }
 ],
 "metadata": {
  "kernelspec": {
   "display_name": "Python [conda env:base] *",
   "language": "python",
   "name": "conda-base-py"
  },
  "language_info": {
   "codemirror_mode": {
    "name": "ipython",
    "version": 3
   },
   "file_extension": ".py",
   "mimetype": "text/x-python",
   "name": "python",
   "nbconvert_exporter": "python",
   "pygments_lexer": "ipython3",
   "version": "3.12.7"
  }
 },
 "nbformat": 4,
 "nbformat_minor": 5
}
