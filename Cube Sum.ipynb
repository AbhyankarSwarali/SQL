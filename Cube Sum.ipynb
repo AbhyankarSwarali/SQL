{
 "cells": [
  {
   "cell_type": "code",
   "execution_count": 4,
   "id": "7ec96509-b335-49ee-9ab8-2437839ee335",
   "metadata": {},
   "outputs": [
    {
     "name": "stdin",
     "output_type": "stream",
     "text": [
      "Enter a number: 5\n"
     ]
    },
    {
     "data": {
      "text/plain": [
       "100"
      ]
     },
     "execution_count": 4,
     "metadata": {},
     "output_type": "execute_result"
    }
   ],
   "source": [
    "def cube_sum():\n",
    "    num = int(input(\"Enter a number:\"))\n",
    "    x = 1\n",
    "    Sum = 0\n",
    "    while x < num: \n",
    "        cube = x**3\n",
    "        Sum += cube\n",
    "        x += 1\n",
    "    return Sum\n",
    "cube_sum()"
   ]
  }
 ],
 "metadata": {
  "kernelspec": {
   "display_name": "Python [conda env:base] *",
   "language": "python",
   "name": "conda-base-py"
  },
  "language_info": {
   "codemirror_mode": {
    "name": "ipython",
    "version": 3
   },
   "file_extension": ".py",
   "mimetype": "text/x-python",
   "name": "python",
   "nbconvert_exporter": "python",
   "pygments_lexer": "ipython3",
   "version": "3.12.7"
  }
 },
 "nbformat": 4,
 "nbformat_minor": 5
}
