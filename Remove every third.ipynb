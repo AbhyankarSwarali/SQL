{
 "cells": [
  {
   "cell_type": "code",
   "execution_count": 8,
   "id": "66cbf964-7a7b-43e7-80f0-1fadcd4c6bcc",
   "metadata": {},
   "outputs": [
    {
     "name": "stdout",
     "output_type": "stream",
     "text": [
      "3 6 9 2 7 1 8 5 10 4 "
     ]
    }
   ],
   "source": [
    "L = [1,2,3,4,5,6,7,8,9,10]\n",
    "pos = 3-1\n",
    "index = 0\n",
    "new_list = len(L)\n",
    "while new_list > 0: \n",
    "    index = (pos + index) % new_list\n",
    "    print(L.pop(index), end=' ')\n",
    "    new_list -= 1 "
   ]
  }
 ],
 "metadata": {
  "kernelspec": {
   "display_name": "Python [conda env:base] *",
   "language": "python",
   "name": "conda-base-py"
  },
  "language_info": {
   "codemirror_mode": {
    "name": "ipython",
    "version": 3
   },
   "file_extension": ".py",
   "mimetype": "text/x-python",
   "name": "python",
   "nbconvert_exporter": "python",
   "pygments_lexer": "ipython3",
   "version": "3.12.7"
  }
 },
 "nbformat": 4,
 "nbformat_minor": 5
}
