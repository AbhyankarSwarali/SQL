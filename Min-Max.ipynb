{
 "cells": [
  {
   "cell_type": "code",
   "execution_count": 3,
   "id": "69be88f4-b08f-4f09-8025-b85a16d3092a",
   "metadata": {},
   "outputs": [
    {
     "name": "stdout",
     "output_type": "stream",
     "text": [
      "Maximum: 23\n",
      "Minimum: 1\n"
     ]
    }
   ],
   "source": [
    "items = [3,6,5,4,1,7,11,23,21,15]\n",
    "Max = 0\n",
    "Min = items[0]\n",
    "for i in items: \n",
    "    if i < Min: \n",
    "        Min = i\n",
    "    elif i > Max: \n",
    "        Max = i\n",
    "    i += 1 \n",
    "print('Maximum:', Max)\n",
    "print(\"Minimum:\", Min)"
   ]
  },
  {
   "cell_type": "code",
   "execution_count": null,
   "id": "e4d32e0b-0b48-45c2-bed6-c0430d16e7d3",
   "metadata": {},
   "outputs": [],
   "source": []
  }
 ],
 "metadata": {
  "kernelspec": {
   "display_name": "Python [conda env:base] *",
   "language": "python",
   "name": "conda-base-py"
  },
  "language_info": {
   "codemirror_mode": {
    "name": "ipython",
    "version": 3
   },
   "file_extension": ".py",
   "mimetype": "text/x-python",
   "name": "python",
   "nbconvert_exporter": "python",
   "pygments_lexer": "ipython3",
   "version": "3.12.7"
  }
 },
 "nbformat": 4,
 "nbformat_minor": 5
}
