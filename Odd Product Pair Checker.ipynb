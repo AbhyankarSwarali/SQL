{
 "cells": [
  {
   "cell_type": "code",
   "execution_count": 5,
   "id": "dcd8e12e-8441-4363-8f47-e00fe54f0cf8",
   "metadata": {},
   "outputs": [
    {
     "name": "stdout",
     "output_type": "stream",
     "text": [
      "[2, 4, 6, 8] False\n",
      "[1, 3, 5, 7] True\n",
      "[1, 3, 6, 7, 8] True\n"
     ]
    }
   ],
   "source": [
    "def odd_product(nums): \n",
    "    for i in range(len(nums)): \n",
    "        for j in range(len(nums)): \n",
    "            if i != j: \n",
    "                product = nums[i] * nums[j]\n",
    "                if product & 1: \n",
    "                    return True\n",
    "    return False\n",
    "l1 = [2,4,6,8]\n",
    "l2 = [1,3,5,7]\n",
    "l3 = [1,3,6,7,8]\n",
    "print(l1, odd_product(l1))\n",
    "print(l2, odd_product(l2))\n",
    "print(l3, odd_product(l3))"
   ]
  }
 ],
 "metadata": {
  "kernelspec": {
   "display_name": "Python [conda env:base] *",
   "language": "python",
   "name": "conda-base-py"
  },
  "language_info": {
   "codemirror_mode": {
    "name": "ipython",
    "version": 3
   },
   "file_extension": ".py",
   "mimetype": "text/x-python",
   "name": "python",
   "nbconvert_exporter": "python",
   "pygments_lexer": "ipython3",
   "version": "3.12.7"
  }
 },
 "nbformat": 4,
 "nbformat_minor": 5
}
