{
 "cells": [
  {
   "cell_type": "code",
   "execution_count": 2,
   "id": "eb7a8b2e-dd3f-4a0a-8d6f-ab25b511171f",
   "metadata": {},
   "outputs": [
    {
     "name": "stdout",
     "output_type": "stream",
     "text": [
      "aeiou aeiuo aeoiu aeoui aeuio aeuoi aieou aieuo aioeu aioue aiueo aiuoe aoeiu aoeui aoieu aoiue aouei aouie aueio aueoi auieo auioe auoei auoie eaiou eaiuo eaoiu eaoui eauio eauoi eiaou eiauo eioau eioua eiuao eiuoa eoaiu eoaui eoiau eoiua eouai eouia euaio euaoi euiao euioa euoai euoia iaeou iaeuo iaoeu iaoue iaueo iauoe ieaou ieauo ieoau ieoua ieuao ieuoa ioaeu ioaue ioeau ioeua iouae iouea iuaeo iuaoe iueao iueoa iuoae iuoea oaeiu oaeui oaieu oaiue oauei oauie oeaiu oeaui oeiau oeiua oeuai oeuia oiaeu oiaue oieau oieua oiuae oiuea ouaei ouaie oueai oueia ouiae ouiea uaeio uaeoi uaieo uaioe uaoei uaoie ueaio ueaoi ueiao ueioa ueoai ueoia uiaeo uiaoe uieao uieoa uioae uioea uoaei uoaie uoeai uoeia uoiae uoiea "
     ]
    }
   ],
   "source": [
    "from itertools import permutations\n",
    "List = ['a', 'e', 'i','o', 'u']\n",
    "all_str = [''.join(p) for p in permutations(List)]\n",
    "for s in all_str: \n",
    "    print(s, end=' ')"
   ]
  }
 ],
 "metadata": {
  "kernelspec": {
   "display_name": "Python [conda env:base] *",
   "language": "python",
   "name": "conda-base-py"
  },
  "language_info": {
   "codemirror_mode": {
    "name": "ipython",
    "version": 3
   },
   "file_extension": ".py",
   "mimetype": "text/x-python",
   "name": "python",
   "nbconvert_exporter": "python",
   "pygments_lexer": "ipython3",
   "version": "3.12.7"
  }
 },
 "nbformat": 4,
 "nbformat_minor": 5
}
