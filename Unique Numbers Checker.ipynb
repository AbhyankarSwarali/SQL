{
 "cells": [
  {
   "cell_type": "code",
   "execution_count": 3,
   "id": "0e9ecc0e-54f7-464e-9a07-68f68c4759d1",
   "metadata": {},
   "outputs": [
    {
     "name": "stdout",
     "output_type": "stream",
     "text": [
      "All elements are unique\n",
      "Repetetions involved\n"
     ]
    }
   ],
   "source": [
    "def unique(item): \n",
    "    if len(item) == len(set(item)):\n",
    "        return 'All elements are unique'\n",
    "    else: \n",
    "        return \"Repetetions involved\"\n",
    "print(unique([2,4,5,7,9]))\n",
    "print(unique([2,4,5,5,7,9]))"
   ]
  }
 ],
 "metadata": {
  "kernelspec": {
   "display_name": "Python [conda env:base] *",
   "language": "python",
   "name": "conda-base-py"
  },
  "language_info": {
   "codemirror_mode": {
    "name": "ipython",
    "version": 3
   },
   "file_extension": ".py",
   "mimetype": "text/x-python",
   "name": "python",
   "nbconvert_exporter": "python",
   "pygments_lexer": "ipython3",
   "version": "3.12.7"
  }
 },
 "nbformat": 4,
 "nbformat_minor": 5
}
